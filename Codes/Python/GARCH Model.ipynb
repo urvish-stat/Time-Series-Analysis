{
 "cells": [
  {
   "cell_type": "code",
   "execution_count": 1,
   "metadata": {},
   "outputs": [
    {
     "data": {
      "text/html": [
       "<div>\n",
       "<style scoped>\n",
       "    .dataframe tbody tr th:only-of-type {\n",
       "        vertical-align: middle;\n",
       "    }\n",
       "\n",
       "    .dataframe tbody tr th {\n",
       "        vertical-align: top;\n",
       "    }\n",
       "\n",
       "    .dataframe thead th {\n",
       "        text-align: right;\n",
       "    }\n",
       "</style>\n",
       "<table border=\"1\" class=\"dataframe\">\n",
       "  <thead>\n",
       "    <tr style=\"text-align: right;\">\n",
       "      <th></th>\n",
       "      <th>date</th>\n",
       "      <th>us_uk_fx_rates</th>\n",
       "    </tr>\n",
       "  </thead>\n",
       "  <tbody>\n",
       "    <tr>\n",
       "      <th>0</th>\n",
       "      <td>1973-01-01</td>\n",
       "      <td>2.36</td>\n",
       "    </tr>\n",
       "    <tr>\n",
       "      <th>1</th>\n",
       "      <td>1973-02-01</td>\n",
       "      <td>2.43</td>\n",
       "    </tr>\n",
       "    <tr>\n",
       "      <th>2</th>\n",
       "      <td>1973-03-01</td>\n",
       "      <td>2.47</td>\n",
       "    </tr>\n",
       "    <tr>\n",
       "      <th>3</th>\n",
       "      <td>1973-04-01</td>\n",
       "      <td>2.48</td>\n",
       "    </tr>\n",
       "    <tr>\n",
       "      <th>4</th>\n",
       "      <td>1973-05-01</td>\n",
       "      <td>2.53</td>\n",
       "    </tr>\n",
       "  </tbody>\n",
       "</table>\n",
       "</div>"
      ],
      "text/plain": [
       "        date  us_uk_fx_rates\n",
       "0 1973-01-01            2.36\n",
       "1 1973-02-01            2.43\n",
       "2 1973-03-01            2.47\n",
       "3 1973-04-01            2.48\n",
       "4 1973-05-01            2.53"
      ]
     },
     "execution_count": 1,
     "metadata": {},
     "output_type": "execute_result"
    }
   ],
   "source": [
    "import numpy as np\n",
    "import pandas as pd\n",
    "import matplotlib.pyplot as plt \n",
    "import seaborn as sns\n",
    "import math\n",
    "\n",
    "\n",
    "# Load the input files\n",
    "us_uk_fx_rates = pd.read_excel(\"./Data/US_UK_Foreign_Exchange_Rate.xls\", sheet_name = \"Data\")\n",
    "us_uk_fx_rates.head()"
   ]
  },
  {
   "cell_type": "code",
   "execution_count": 6,
   "metadata": {},
   "outputs": [
    {
     "name": "stdout",
     "output_type": "stream",
     "text": [
      "Iteration:      1,   Func. Count:      6,   Neg. LLF: -6.68398068169715\n",
      "Iteration:      2,   Func. Count:     18,   Neg. LLF: -21.908071990621252\n",
      "Iteration:      3,   Func. Count:     25,   Neg. LLF: -32.03648450109571\n",
      "Iteration:      4,   Func. Count:     31,   Neg. LLF: -55.846232439431915\n",
      "Iteration:      5,   Func. Count:     39,   Neg. LLF: -62.00629943841792\n",
      "Iteration:      6,   Func. Count:     46,   Neg. LLF: -64.02116623027486\n",
      "Iteration:      7,   Func. Count:     53,   Neg. LLF: -67.5126947148861\n",
      "Iteration:      8,   Func. Count:     61,   Neg. LLF: -69.10071398565478\n",
      "Iteration:      9,   Func. Count:     69,   Neg. LLF: -69.12731316725817\n",
      "Iteration:     10,   Func. Count:     76,   Neg. LLF: -69.98328665858482\n",
      "Iteration:     11,   Func. Count:     83,   Neg. LLF: -71.30162039572285\n",
      "Iteration:     12,   Func. Count:     90,   Neg. LLF: -72.45196839195539\n",
      "Iteration:     13,   Func. Count:     97,   Neg. LLF: -73.46254701038598\n",
      "Iteration:     14,   Func. Count:    104,   Neg. LLF: -74.33737542409045\n",
      "Iteration:     15,   Func. Count:    111,   Neg. LLF: -75.08567977090624\n",
      "Iteration:     16,   Func. Count:    118,   Neg. LLF: -75.71207224502814\n",
      "Iteration:     17,   Func. Count:    125,   Neg. LLF: -76.21406935361084\n",
      "Iteration:     18,   Func. Count:    131,   Neg. LLF: -76.76586108762588\n",
      "Iteration:     19,   Func. Count:    137,   Neg. LLF: -77.61472944930325\n",
      "Iteration:     20,   Func. Count:    143,   Neg. LLF: -77.79000895295702\n",
      "Iteration:     21,   Func. Count:    149,   Neg. LLF: -77.8962305248309\n",
      "Iteration:     22,   Func. Count:    155,   Neg. LLF: -77.94285955703306\n",
      "Iteration:     23,   Func. Count:    161,   Neg. LLF: -77.9467880882125\n",
      "Iteration:     24,   Func. Count:    167,   Neg. LLF: -77.94696805041445\n",
      "Iteration:     25,   Func. Count:    173,   Neg. LLF: -77.946971257477\n",
      "Optimization terminated successfully.    (Exit mode 0)\n",
      "            Current function value: -77.94697145181159\n",
      "            Iterations: 26\n",
      "            Function evaluations: 173\n",
      "            Gradient evaluations: 25\n"
     ]
    },
    {
     "data": {
      "text/plain": [
       "                     Constant Mean - GARCH Model Results                      \n",
       "==============================================================================\n",
       "Dep. Variable:                      y   R-squared:                      -0.420\n",
       "Mean Model:             Constant Mean   Adj. R-squared:                 -0.420\n",
       "Vol Model:                      GARCH   Log-Likelihood:                77.9470\n",
       "Distribution:                  Normal   AIC:                          -147.894\n",
       "Method:            Maximum Likelihood   BIC:                          -133.270\n",
       "                                        No. Observations:                  286\n",
       "Date:                Thu, Jan 28 2021   Df Residuals:                      282\n",
       "Time:                        18:14:20   Df Model:                            4\n",
       "                               Mean Model                               \n",
       "========================================================================\n",
       "                 coef    std err          t      P>|t|  95.0% Conf. Int.\n",
       "------------------------------------------------------------------------\n",
       "mu             1.5769  1.214e-02    129.939      0.000 [  1.553,  1.601]\n",
       "                               Volatility Model                              \n",
       "=============================================================================\n",
       "                 coef    std err          t      P>|t|       95.0% Conf. Int.\n",
       "-----------------------------------------------------------------------------\n",
       "omega      6.9937e-04  4.713e-04      1.484      0.138 [-2.244e-04,1.623e-03]\n",
       "alpha[1]       1.0000      0.228      4.381  1.179e-05      [  0.553,  1.447]\n",
       "beta[1]        0.0000      0.244      0.000      1.000      [ -0.479,  0.479]\n",
       "=============================================================================\n",
       "\n",
       "Covariance estimator: robust\n",
       "ARCHModelResult, id: 0x1dc40593948"
      ]
     },
     "execution_count": 6,
     "metadata": {},
     "output_type": "execute_result"
    }
   ],
   "source": [
    "from arch import arch_model\n",
    "data = us_uk_fx_rates.us_uk_fx_rates.values\n",
    "model = arch_model(data, p = 1, q = 1, vol = \"GARCH\").fit()\n",
    "model"
   ]
  },
  {
   "cell_type": "code",
   "execution_count": null,
   "metadata": {},
   "outputs": [],
   "source": []
  }
 ],
 "metadata": {
  "kernelspec": {
   "display_name": "Python 3",
   "language": "python",
   "name": "python3"
  },
  "language_info": {
   "codemirror_mode": {
    "name": "ipython",
    "version": 3
   },
   "file_extension": ".py",
   "mimetype": "text/x-python",
   "name": "python",
   "nbconvert_exporter": "python",
   "pygments_lexer": "ipython3",
   "version": "3.7.6"
  }
 },
 "nbformat": 4,
 "nbformat_minor": 4
}
