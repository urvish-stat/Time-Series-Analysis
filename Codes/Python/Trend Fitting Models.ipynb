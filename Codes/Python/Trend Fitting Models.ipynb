{
 "cells": [
  {
   "cell_type": "markdown",
   "metadata": {},
   "source": [
    "# Trend Fitting Models"
   ]
  },
  {
   "cell_type": "code",
   "execution_count": 25,
   "metadata": {},
   "outputs": [
    {
     "data": {
      "text/html": [
       "<div>\n",
       "<style scoped>\n",
       "    .dataframe tbody tr th:only-of-type {\n",
       "        vertical-align: middle;\n",
       "    }\n",
       "\n",
       "    .dataframe tbody tr th {\n",
       "        vertical-align: top;\n",
       "    }\n",
       "\n",
       "    .dataframe thead th {\n",
       "        text-align: right;\n",
       "    }\n",
       "</style>\n",
       "<table border=\"1\" class=\"dataframe\">\n",
       "  <thead>\n",
       "    <tr style=\"text-align: right;\">\n",
       "      <th></th>\n",
       "      <th>Year</th>\n",
       "      <th>Real_Revenue</th>\n",
       "    </tr>\n",
       "  </thead>\n",
       "  <tbody>\n",
       "    <tr>\n",
       "      <th>0</th>\n",
       "      <td>1975</td>\n",
       "      <td>9.3</td>\n",
       "    </tr>\n",
       "    <tr>\n",
       "      <th>1</th>\n",
       "      <td>1976</td>\n",
       "      <td>9.5</td>\n",
       "    </tr>\n",
       "    <tr>\n",
       "      <th>2</th>\n",
       "      <td>1977</td>\n",
       "      <td>9.9</td>\n",
       "    </tr>\n",
       "    <tr>\n",
       "      <th>3</th>\n",
       "      <td>1978</td>\n",
       "      <td>10.7</td>\n",
       "    </tr>\n",
       "    <tr>\n",
       "      <th>4</th>\n",
       "      <td>1979</td>\n",
       "      <td>11.0</td>\n",
       "    </tr>\n",
       "  </tbody>\n",
       "</table>\n",
       "</div>"
      ],
      "text/plain": [
       "   Year  Real_Revenue\n",
       "0  1975           9.3\n",
       "1  1976           9.5\n",
       "2  1977           9.9\n",
       "3  1978          10.7\n",
       "4  1979          11.0"
      ]
     },
     "execution_count": 25,
     "metadata": {},
     "output_type": "execute_result"
    }
   ],
   "source": [
    "import numpy as np\n",
    "import pandas as pd\n",
    "import matplotlib.pyplot as plt \n",
    "import seaborn as sns\n",
    "import math\n",
    "\n",
    "\n",
    "# Load the input files\n",
    "eastmank_revenue = pd.read_excel(\"./Data/EASTMANK.XLS\", sheet_name = \"Data\")[[\"Year\", \"Real Revenue\"]]\n",
    "eastmank_revenue = eastmank_revenue.rename(columns = {\"Real Revenue\":\"Real_Revenue\"})\n",
    "eastmank_revenue.head()"
   ]
  },
  {
   "cell_type": "code",
   "execution_count": 26,
   "metadata": {},
   "outputs": [
    {
     "data": {
      "text/html": [
       "<div>\n",
       "<style scoped>\n",
       "    .dataframe tbody tr th:only-of-type {\n",
       "        vertical-align: middle;\n",
       "    }\n",
       "\n",
       "    .dataframe tbody tr th {\n",
       "        vertical-align: top;\n",
       "    }\n",
       "\n",
       "    .dataframe thead th {\n",
       "        text-align: right;\n",
       "    }\n",
       "</style>\n",
       "<table border=\"1\" class=\"dataframe\">\n",
       "  <thead>\n",
       "    <tr style=\"text-align: right;\">\n",
       "      <th></th>\n",
       "      <th>Year</th>\n",
       "      <th>Real_Revenue</th>\n",
       "      <th>coded_year</th>\n",
       "      <th>coded_year_square</th>\n",
       "      <th>log_Real_Revenue</th>\n",
       "    </tr>\n",
       "  </thead>\n",
       "  <tbody>\n",
       "    <tr>\n",
       "      <th>0</th>\n",
       "      <td>1975</td>\n",
       "      <td>9.3</td>\n",
       "      <td>0</td>\n",
       "      <td>0</td>\n",
       "      <td>2.230014</td>\n",
       "    </tr>\n",
       "    <tr>\n",
       "      <th>1</th>\n",
       "      <td>1976</td>\n",
       "      <td>9.5</td>\n",
       "      <td>1</td>\n",
       "      <td>1</td>\n",
       "      <td>2.251292</td>\n",
       "    </tr>\n",
       "    <tr>\n",
       "      <th>2</th>\n",
       "      <td>1977</td>\n",
       "      <td>9.9</td>\n",
       "      <td>2</td>\n",
       "      <td>4</td>\n",
       "      <td>2.292535</td>\n",
       "    </tr>\n",
       "    <tr>\n",
       "      <th>3</th>\n",
       "      <td>1978</td>\n",
       "      <td>10.7</td>\n",
       "      <td>3</td>\n",
       "      <td>9</td>\n",
       "      <td>2.370244</td>\n",
       "    </tr>\n",
       "    <tr>\n",
       "      <th>4</th>\n",
       "      <td>1979</td>\n",
       "      <td>11.0</td>\n",
       "      <td>4</td>\n",
       "      <td>16</td>\n",
       "      <td>2.397895</td>\n",
       "    </tr>\n",
       "  </tbody>\n",
       "</table>\n",
       "</div>"
      ],
      "text/plain": [
       "   Year  Real_Revenue  coded_year  coded_year_square  log_Real_Revenue\n",
       "0  1975           9.3           0                  0          2.230014\n",
       "1  1976           9.5           1                  1          2.251292\n",
       "2  1977           9.9           2                  4          2.292535\n",
       "3  1978          10.7           3                  9          2.370244\n",
       "4  1979          11.0           4                 16          2.397895"
      ]
     },
     "execution_count": 26,
     "metadata": {},
     "output_type": "execute_result"
    }
   ],
   "source": [
    "# Create coded year, quadratic and exponential variables\n",
    "eastmank_revenue[\"coded_year\"] = eastmank_revenue.index\n",
    "eastmank_revenue[\"coded_year_square\"] = eastmank_revenue[\"coded_year\"] ** 2\n",
    "eastmank_revenue[\"log_Real_Revenue\"] = np.log(eastmank_revenue[\"Real_Revenue\"])\n",
    "eastmank_revenue.head()"
   ]
  },
  {
   "cell_type": "markdown",
   "metadata": {},
   "source": [
    "# Linear Trend Fitting Model"
   ]
  },
  {
   "cell_type": "code",
   "execution_count": 27,
   "metadata": {},
   "outputs": [
    {
     "data": {
      "text/html": [
       "<table class=\"simpletable\">\n",
       "<caption>OLS Regression Results</caption>\n",
       "<tr>\n",
       "  <th>Dep. Variable:</th>      <td>Real_Revenue</td>   <th>  R-squared:         </th> <td>   0.000</td>\n",
       "</tr>\n",
       "<tr>\n",
       "  <th>Model:</th>                   <td>OLS</td>       <th>  Adj. R-squared:    </th> <td>  -0.043</td>\n",
       "</tr>\n",
       "<tr>\n",
       "  <th>Method:</th>             <td>Least Squares</td>  <th>  F-statistic:       </th> <td>0.003186</td>\n",
       "</tr>\n",
       "<tr>\n",
       "  <th>Date:</th>             <td>Fri, 06 Nov 2020</td> <th>  Prob (F-statistic):</th>  <td> 0.955</td> \n",
       "</tr>\n",
       "<tr>\n",
       "  <th>Time:</th>                 <td>14:40:37</td>     <th>  Log-Likelihood:    </th> <td> -51.942</td>\n",
       "</tr>\n",
       "<tr>\n",
       "  <th>No. Observations:</th>      <td>    25</td>      <th>  AIC:               </th> <td>   107.9</td>\n",
       "</tr>\n",
       "<tr>\n",
       "  <th>Df Residuals:</th>          <td>    23</td>      <th>  BIC:               </th> <td>   110.3</td>\n",
       "</tr>\n",
       "<tr>\n",
       "  <th>Df Model:</th>              <td>     1</td>      <th>                     </th>     <td> </td>   \n",
       "</tr>\n",
       "<tr>\n",
       "  <th>Covariance Type:</th>      <td>nonrobust</td>    <th>                     </th>     <td> </td>   \n",
       "</tr>\n",
       "</table>\n",
       "<table class=\"simpletable\">\n",
       "<tr>\n",
       "       <td></td>         <th>coef</th>     <th>std err</th>      <th>t</th>      <th>P>|t|</th>  <th>[0.025</th>    <th>0.975]</th>  \n",
       "</tr>\n",
       "<tr>\n",
       "  <th>Intercept</th>  <td>   11.0778</td> <td>    0.782</td> <td>   14.162</td> <td> 0.000</td> <td>    9.460</td> <td>   12.696</td>\n",
       "</tr>\n",
       "<tr>\n",
       "  <th>coded_year</th> <td>   -0.0032</td> <td>    0.056</td> <td>   -0.056</td> <td> 0.955</td> <td>   -0.119</td> <td>    0.112</td>\n",
       "</tr>\n",
       "</table>\n",
       "<table class=\"simpletable\">\n",
       "<tr>\n",
       "  <th>Omnibus:</th>       <td> 3.133</td> <th>  Durbin-Watson:     </th> <td>   0.317</td>\n",
       "</tr>\n",
       "<tr>\n",
       "  <th>Prob(Omnibus):</th> <td> 0.209</td> <th>  Jarque-Bera (JB):  </th> <td>   2.712</td>\n",
       "</tr>\n",
       "<tr>\n",
       "  <th>Skew:</th>          <td> 0.760</td> <th>  Prob(JB):          </th> <td>   0.258</td>\n",
       "</tr>\n",
       "<tr>\n",
       "  <th>Kurtosis:</th>      <td> 2.457</td> <th>  Cond. No.          </th> <td>    27.3</td>\n",
       "</tr>\n",
       "</table><br/><br/>Warnings:<br/>[1] Standard Errors assume that the covariance matrix of the errors is correctly specified."
      ],
      "text/plain": [
       "<class 'statsmodels.iolib.summary.Summary'>\n",
       "\"\"\"\n",
       "                            OLS Regression Results                            \n",
       "==============================================================================\n",
       "Dep. Variable:           Real_Revenue   R-squared:                       0.000\n",
       "Model:                            OLS   Adj. R-squared:                 -0.043\n",
       "Method:                 Least Squares   F-statistic:                  0.003186\n",
       "Date:                Fri, 06 Nov 2020   Prob (F-statistic):              0.955\n",
       "Time:                        14:40:37   Log-Likelihood:                -51.942\n",
       "No. Observations:                  25   AIC:                             107.9\n",
       "Df Residuals:                      23   BIC:                             110.3\n",
       "Df Model:                           1                                         \n",
       "Covariance Type:            nonrobust                                         \n",
       "==============================================================================\n",
       "                 coef    std err          t      P>|t|      [0.025      0.975]\n",
       "------------------------------------------------------------------------------\n",
       "Intercept     11.0778      0.782     14.162      0.000       9.460      12.696\n",
       "coded_year    -0.0032      0.056     -0.056      0.955      -0.119       0.112\n",
       "==============================================================================\n",
       "Omnibus:                        3.133   Durbin-Watson:                   0.317\n",
       "Prob(Omnibus):                  0.209   Jarque-Bera (JB):                2.712\n",
       "Skew:                           0.760   Prob(JB):                        0.258\n",
       "Kurtosis:                       2.457   Cond. No.                         27.3\n",
       "==============================================================================\n",
       "\n",
       "Warnings:\n",
       "[1] Standard Errors assume that the covariance matrix of the errors is correctly specified.\n",
       "\"\"\""
      ]
     },
     "execution_count": 27,
     "metadata": {},
     "output_type": "execute_result"
    }
   ],
   "source": [
    "from statsmodels.formula.api import ols\n",
    "linear_trend_model = ols('Real_Revenue ~ coded_year', data = eastmank_revenue).fit()\n",
    "linear_trend_model.summary()"
   ]
  },
  {
   "cell_type": "code",
   "execution_count": 28,
   "metadata": {},
   "outputs": [
    {
     "data": {
      "text/plain": [
       "<matplotlib.axes._subplots.AxesSubplot at 0x20234d646c8>"
      ]
     },
     "execution_count": 28,
     "metadata": {},
     "output_type": "execute_result"
    },
    {
     "data": {
      "image/png": "[encoded data removed]",
      "text/plain": [
       "<Figure size 432x288 with 1 Axes>"
      ]
     },
     "metadata": {
      "needs_background": "light"
     },
     "output_type": "display_data"
    }
   ],
   "source": [
    "sns.regplot(x = \"coded_year\", y = \"Real_Revenue\", data = eastmank_revenue)"
   ]
  },
  {
   "cell_type": "markdown",
   "metadata": {},
   "source": [
    "# Quadratic Trend fitting Model"
   ]
  },
  {
   "cell_type": "code",
   "execution_count": 29,
   "metadata": {},
   "outputs": [
    {
     "data": {
      "text/html": [
       "<table class=\"simpletable\">\n",
       "<caption>OLS Regression Results</caption>\n",
       "<tr>\n",
       "  <th>Dep. Variable:</th>      <td>Real_Revenue</td>   <th>  R-squared:         </th> <td>   0.444</td>\n",
       "</tr>\n",
       "<tr>\n",
       "  <th>Model:</th>                   <td>OLS</td>       <th>  Adj. R-squared:    </th> <td>   0.393</td>\n",
       "</tr>\n",
       "<tr>\n",
       "  <th>Method:</th>             <td>Least Squares</td>  <th>  F-statistic:       </th> <td>   8.778</td>\n",
       "</tr>\n",
       "<tr>\n",
       "  <th>Date:</th>             <td>Fri, 06 Nov 2020</td> <th>  Prob (F-statistic):</th>  <td>0.00158</td>\n",
       "</tr>\n",
       "<tr>\n",
       "  <th>Time:</th>                 <td>14:40:42</td>     <th>  Log-Likelihood:    </th> <td> -44.610</td>\n",
       "</tr>\n",
       "<tr>\n",
       "  <th>No. Observations:</th>      <td>    25</td>      <th>  AIC:               </th> <td>   95.22</td>\n",
       "</tr>\n",
       "<tr>\n",
       "  <th>Df Residuals:</th>          <td>    22</td>      <th>  BIC:               </th> <td>   98.88</td>\n",
       "</tr>\n",
       "<tr>\n",
       "  <th>Df Model:</th>              <td>     2</td>      <th>                     </th>     <td> </td>   \n",
       "</tr>\n",
       "<tr>\n",
       "  <th>Covariance Type:</th>      <td>nonrobust</td>    <th>                     </th>     <td> </td>   \n",
       "</tr>\n",
       "</table>\n",
       "<table class=\"simpletable\">\n",
       "<tr>\n",
       "          <td></td>             <th>coef</th>     <th>std err</th>      <th>t</th>      <th>P>|t|</th>  <th>[0.025</th>    <th>0.975]</th>  \n",
       "</tr>\n",
       "<tr>\n",
       "  <th>Intercept</th>         <td>    8.5255</td> <td>    0.853</td> <td>    9.999</td> <td> 0.000</td> <td>    6.757</td> <td>   10.294</td>\n",
       "</tr>\n",
       "<tr>\n",
       "  <th>coded_year</th>        <td>    0.6627</td> <td>    0.165</td> <td>    4.027</td> <td> 0.001</td> <td>    0.321</td> <td>    1.004</td>\n",
       "</tr>\n",
       "<tr>\n",
       "  <th>coded_year_square</th> <td>   -0.0277</td> <td>    0.007</td> <td>   -4.189</td> <td> 0.000</td> <td>   -0.041</td> <td>   -0.014</td>\n",
       "</tr>\n",
       "</table>\n",
       "<table class=\"simpletable\">\n",
       "<tr>\n",
       "  <th>Omnibus:</th>       <td> 0.779</td> <th>  Durbin-Watson:     </th> <td>   0.523</td>\n",
       "</tr>\n",
       "<tr>\n",
       "  <th>Prob(Omnibus):</th> <td> 0.677</td> <th>  Jarque-Bera (JB):  </th> <td>   0.780</td>\n",
       "</tr>\n",
       "<tr>\n",
       "  <th>Skew:</th>          <td> 0.219</td> <th>  Prob(JB):          </th> <td>   0.677</td>\n",
       "</tr>\n",
       "<tr>\n",
       "  <th>Kurtosis:</th>      <td> 2.254</td> <th>  Cond. No.          </th> <td>    748.</td>\n",
       "</tr>\n",
       "</table><br/><br/>Warnings:<br/>[1] Standard Errors assume that the covariance matrix of the errors is correctly specified."
      ],
      "text/plain": [
       "<class 'statsmodels.iolib.summary.Summary'>\n",
       "\"\"\"\n",
       "                            OLS Regression Results                            \n",
       "==============================================================================\n",
       "Dep. Variable:           Real_Revenue   R-squared:                       0.444\n",
       "Model:                            OLS   Adj. R-squared:                  0.393\n",
       "Method:                 Least Squares   F-statistic:                     8.778\n",
       "Date:                Fri, 06 Nov 2020   Prob (F-statistic):            0.00158\n",
       "Time:                        14:40:42   Log-Likelihood:                -44.610\n",
       "No. Observations:                  25   AIC:                             95.22\n",
       "Df Residuals:                      22   BIC:                             98.88\n",
       "Df Model:                           2                                         \n",
       "Covariance Type:            nonrobust                                         \n",
       "=====================================================================================\n",
       "                        coef    std err          t      P>|t|      [0.025      0.975]\n",
       "-------------------------------------------------------------------------------------\n",
       "Intercept             8.5255      0.853      9.999      0.000       6.757      10.294\n",
       "coded_year            0.6627      0.165      4.027      0.001       0.321       1.004\n",
       "coded_year_square    -0.0277      0.007     -4.189      0.000      -0.041      -0.014\n",
       "==============================================================================\n",
       "Omnibus:                        0.779   Durbin-Watson:                   0.523\n",
       "Prob(Omnibus):                  0.677   Jarque-Bera (JB):                0.780\n",
       "Skew:                           0.219   Prob(JB):                        0.677\n",
       "Kurtosis:                       2.254   Cond. No.                         748.\n",
       "==============================================================================\n",
       "\n",
       "Warnings:\n",
       "[1] Standard Errors assume that the covariance matrix of the errors is correctly specified.\n",
       "\"\"\""
      ]
     },
     "execution_count": 29,
     "metadata": {},
     "output_type": "execute_result"
    }
   ],
   "source": [
    "quadratic_trend_model = ols('Real_Revenue ~ coded_year + coded_year_square', data = eastmank_revenue).fit()\n",
    "quadratic_trend_model.summary()"
   ]
  },
  {
   "cell_type": "code",
   "execution_count": 30,
   "metadata": {},
   "outputs": [
    {
     "data": {
      "text/plain": [
       "<matplotlib.axes._subplots.AxesSubplot at 0x20234e98a88>"
      ]
     },
     "execution_count": 30,
     "metadata": {},
     "output_type": "execute_result"
    },
    {
     "data": {
      "image/png": "[encoded data removed]",
      "text/plain": [
       "<Figure size 432x288 with 1 Axes>"
      ]
     },
     "metadata": {
      "needs_background": "light"
     },
     "output_type": "display_data"
    }
   ],
   "source": [
    "sns.regplot(x = \"coded_year\", y = \"Real_Revenue\", data = eastmank_revenue, order = 2)"
   ]
  },
  {
   "cell_type": "markdown",
   "metadata": {},
   "source": [
    "# Exponential Trend fitting Model"
   ]
  },
  {
   "cell_type": "code",
   "execution_count": 31,
   "metadata": {},
   "outputs": [
    {
     "data": {
      "text/html": [
       "<table class=\"simpletable\">\n",
       "<caption>OLS Regression Results</caption>\n",
       "<tr>\n",
       "  <th>Dep. Variable:</th>    <td>log_Real_Revenue</td> <th>  R-squared:         </th> <td>   0.003</td>\n",
       "</tr>\n",
       "<tr>\n",
       "  <th>Model:</th>                   <td>OLS</td>       <th>  Adj. R-squared:    </th> <td>  -0.040</td>\n",
       "</tr>\n",
       "<tr>\n",
       "  <th>Method:</th>             <td>Least Squares</td>  <th>  F-statistic:       </th> <td> 0.07635</td>\n",
       "</tr>\n",
       "<tr>\n",
       "  <th>Date:</th>             <td>Fri, 06 Nov 2020</td> <th>  Prob (F-statistic):</th>  <td> 0.785</td> \n",
       "</tr>\n",
       "<tr>\n",
       "  <th>Time:</th>                 <td>14:42:10</td>     <th>  Log-Likelihood:    </th> <td>  9.1417</td>\n",
       "</tr>\n",
       "<tr>\n",
       "  <th>No. Observations:</th>      <td>    25</td>      <th>  AIC:               </th> <td>  -14.28</td>\n",
       "</tr>\n",
       "<tr>\n",
       "  <th>Df Residuals:</th>          <td>    23</td>      <th>  BIC:               </th> <td>  -11.85</td>\n",
       "</tr>\n",
       "<tr>\n",
       "  <th>Df Model:</th>              <td>     1</td>      <th>                     </th>     <td> </td>   \n",
       "</tr>\n",
       "<tr>\n",
       "  <th>Covariance Type:</th>      <td>nonrobust</td>    <th>                     </th>     <td> </td>   \n",
       "</tr>\n",
       "</table>\n",
       "<table class=\"simpletable\">\n",
       "<tr>\n",
       "       <td></td>         <th>coef</th>     <th>std err</th>      <th>t</th>      <th>P>|t|</th>  <th>[0.025</th>    <th>0.975]</th>  \n",
       "</tr>\n",
       "<tr>\n",
       "  <th>Intercept</th>  <td>    2.4031</td> <td>    0.068</td> <td>   35.364</td> <td> 0.000</td> <td>    2.263</td> <td>    2.544</td>\n",
       "</tr>\n",
       "<tr>\n",
       "  <th>coded_year</th> <td>   -0.0013</td> <td>    0.005</td> <td>   -0.276</td> <td> 0.785</td> <td>   -0.011</td> <td>    0.009</td>\n",
       "</tr>\n",
       "</table>\n",
       "<table class=\"simpletable\">\n",
       "<tr>\n",
       "  <th>Omnibus:</th>       <td> 2.133</td> <th>  Durbin-Watson:     </th> <td>   0.316</td>\n",
       "</tr>\n",
       "<tr>\n",
       "  <th>Prob(Omnibus):</th> <td> 0.344</td> <th>  Jarque-Bera (JB):  </th> <td>   1.854</td>\n",
       "</tr>\n",
       "<tr>\n",
       "  <th>Skew:</th>          <td> 0.578</td> <th>  Prob(JB):          </th> <td>   0.396</td>\n",
       "</tr>\n",
       "<tr>\n",
       "  <th>Kurtosis:</th>      <td> 2.334</td> <th>  Cond. No.          </th> <td>    27.3</td>\n",
       "</tr>\n",
       "</table><br/><br/>Warnings:<br/>[1] Standard Errors assume that the covariance matrix of the errors is correctly specified."
      ],
      "text/plain": [
       "<class 'statsmodels.iolib.summary.Summary'>\n",
       "\"\"\"\n",
       "                            OLS Regression Results                            \n",
       "==============================================================================\n",
       "Dep. Variable:       log_Real_Revenue   R-squared:                       0.003\n",
       "Model:                            OLS   Adj. R-squared:                 -0.040\n",
       "Method:                 Least Squares   F-statistic:                   0.07635\n",
       "Date:                Fri, 06 Nov 2020   Prob (F-statistic):              0.785\n",
       "Time:                        14:42:10   Log-Likelihood:                 9.1417\n",
       "No. Observations:                  25   AIC:                            -14.28\n",
       "Df Residuals:                      23   BIC:                            -11.85\n",
       "Df Model:                           1                                         \n",
       "Covariance Type:            nonrobust                                         \n",
       "==============================================================================\n",
       "                 coef    std err          t      P>|t|      [0.025      0.975]\n",
       "------------------------------------------------------------------------------\n",
       "Intercept      2.4031      0.068     35.364      0.000       2.263       2.544\n",
       "coded_year    -0.0013      0.005     -0.276      0.785      -0.011       0.009\n",
       "==============================================================================\n",
       "Omnibus:                        2.133   Durbin-Watson:                   0.316\n",
       "Prob(Omnibus):                  0.344   Jarque-Bera (JB):                1.854\n",
       "Skew:                           0.578   Prob(JB):                        0.396\n",
       "Kurtosis:                       2.334   Cond. No.                         27.3\n",
       "==============================================================================\n",
       "\n",
       "Warnings:\n",
       "[1] Standard Errors assume that the covariance matrix of the errors is correctly specified.\n",
       "\"\"\""
      ]
     },
     "execution_count": 31,
     "metadata": {},
     "output_type": "execute_result"
    }
   ],
   "source": [
    "exponential_trend_model = ols('log_Real_Revenue ~ coded_year', data = eastmank_revenue).fit()\n",
    "exponential_trend_model.summary()"
   ]
  },
  {
   "cell_type": "code",
   "execution_count": 32,
   "metadata": {},
   "outputs": [
    {
     "data": {
      "text/plain": [
       "<matplotlib.axes._subplots.AxesSubplot at 0x20234d87708>"
      ]
     },
     "execution_count": 32,
     "metadata": {},
     "output_type": "execute_result"
    },
    {
     "data": {
      "image/png": "[encoded data removed]",
      "text/plain": [
       "<Figure size 432x288 with 1 Axes>"
      ]
     },
     "metadata": {
      "needs_background": "light"
     },
     "output_type": "display_data"
    }
   ],
   "source": [
    "sns.regplot(x = \"coded_year\", y = \"log_Real_Revenue\", data = eastmank_revenue)"
   ]
  },
  {
   "cell_type": "code",
   "execution_count": null,
   "metadata": {},
   "outputs": [],
   "source": []
  }
 ],
 "metadata": {
  "kernelspec": {
   "display_name": "Python 3",
   "language": "python",
   "name": "python3"
  },
  "language_info": {
   "codemirror_mode": {
    "name": "ipython",
    "version": 3
   },
   "file_extension": ".py",
   "mimetype": "text/x-python",
   "name": "python",
   "nbconvert_exporter": "python",
   "pygments_lexer": "ipython3",
   "version": "3.7.6"
  }
 },
 "nbformat": 4,
 "nbformat_minor": 4
}
